{
 "cells": [
  {
   "cell_type": "markdown",
   "metadata": {},
   "source": [
    "Author: Cesar O. Maldonado-Mercado \n",
    "\n",
    "Date:   27-Feb-2017\n",
    "\n",
    "Email:  cesar.maldonado.mercado@gmail.com\n",
    "\n",
    "License: Belongs to Nearshore Delivery Solutions\n"
   ]
  },
  {
   "cell_type": "markdown",
   "metadata": {},
   "source": [
    "1) Comenzamos por cargar las librerías necesarias "
   ]
  },
  {
   "cell_type": "code",
   "execution_count": 2,
   "metadata": {
    "collapsed": false
   },
   "outputs": [
    {
     "name": "stderr",
     "output_type": "stream",
     "text": [
      "//anaconda/lib/python2.7/site-packages/sklearn/cross_validation.py:44: DeprecationWarning: This module was deprecated in version 0.18 in favor of the model_selection module into which all the refactored classes and functions are moved. Also note that the interface of the new CV iterators are different from that of this module. This module will be removed in 0.20.\n",
      "  \"This module will be removed in 0.20.\", DeprecationWarning)\n"
     ]
    }
   ],
   "source": [
    "import numpy as np\n",
    "import pandas as pd\n",
    "import random\n",
    "import seaborn as sns\n",
    "import pylab\n",
    "sns.set(style=\"whitegrid\", color_codes=True)\n",
    "from matplotlib.pyplot import *\n",
    "import matplotlib.pyplot as plt\n",
    "from mpl_toolkits.mplot3d import Axes3D\n",
    "from matplotlib import cm\n",
    "from matplotlib.ticker import LinearLocator, FormatStrFormatter\n",
    "from sklearn.linear_model import LogisticRegression\n",
    "from sklearn.svm import LinearSVC\n",
    "from sklearn.linear_model import LogisticRegression\n",
    "from sklearn.cross_validation import train_test_split\n",
    "from sklearn.metrics import confusion_matrix\n",
    "%matplotlib inline"
   ]
  },
  {
   "cell_type": "markdown",
   "metadata": {},
   "source": [
    "2) Ahora cargamos los datos:"
   ]
  },
  {
   "cell_type": "code",
   "execution_count": 3,
   "metadata": {
    "collapsed": false
   },
   "outputs": [
    {
     "name": "stderr",
     "output_type": "stream",
     "text": [
      "//anaconda/lib/python2.7/site-packages/IPython/core/interactiveshell.py:2717: DtypeWarning: Columns (8,9,12,13,14) have mixed types. Specify dtype option on import or set low_memory=False.\n",
      "  interactivity=interactivity, compiler=compiler, result=result)\n"
     ]
    }
   ],
   "source": [
    "gedata = pd.read_csv('../files/blade_damage_assessment.csv')"
   ]
  },
  {
   "cell_type": "markdown",
   "metadata": {},
   "source": [
    "3) Podemos ver que el archivo .csv fue leído como un pandas dataframe"
   ]
  },
  {
   "cell_type": "code",
   "execution_count": 4,
   "metadata": {
    "collapsed": false
   },
   "outputs": [
    {
     "data": {
      "text/plain": [
       "pandas.core.frame.DataFrame"
      ]
     },
     "execution_count": 4,
     "metadata": {},
     "output_type": "execute_result"
    }
   ],
   "source": [
    "type(gedata)"
   ]
  },
  {
   "cell_type": "markdown",
   "metadata": {},
   "source": [
    "5) Ahora veamos el encabezado y la cola:"
   ]
  },
  {
   "cell_type": "code",
   "execution_count": 5,
   "metadata": {
    "collapsed": false
   },
   "outputs": [
    {
     "data": {
      "text/html": [
       "<div>\n",
       "<table border=\"1\" class=\"dataframe\">\n",
       "  <thead>\n",
       "    <tr style=\"text-align: right;\">\n",
       "      <th></th>\n",
       "      <th>engine_id</th>\n",
       "      <th>customer</th>\n",
       "      <th>engine_type</th>\n",
       "      <th>category</th>\n",
       "      <th>damage</th>\n",
       "      <th>flight_id</th>\n",
       "      <th>t_1</th>\n",
       "      <th>t_2</th>\n",
       "      <th>t_3</th>\n",
       "      <th>t_4</th>\n",
       "      <th>t_oil</th>\n",
       "      <th>p_oil</th>\n",
       "      <th>vibrations_2</th>\n",
       "      <th>vibrations_4</th>\n",
       "      <th>core_speed</th>\n",
       "      <th>fan_speed</th>\n",
       "      <th>thrust</th>\n",
       "    </tr>\n",
       "  </thead>\n",
       "  <tbody>\n",
       "    <tr>\n",
       "      <th>0</th>\n",
       "      <td>700000</td>\n",
       "      <td>ACC</td>\n",
       "      <td>EX-50B</td>\n",
       "      <td>non-failed</td>\n",
       "      <td>38</td>\n",
       "      <td>1</td>\n",
       "      <td>27.169333</td>\n",
       "      <td>97.409398</td>\n",
       "      <td>568.554307180454</td>\n",
       "      <td>800.617771526119</td>\n",
       "      <td>73.664163</td>\n",
       "      <td>59.755336</td>\n",
       "      <td>0.0844030348911414</td>\n",
       "      <td>0.288484308226124</td>\n",
       "      <td>103.988490040037</td>\n",
       "      <td>86.759646</td>\n",
       "      <td>43824.077117</td>\n",
       "    </tr>\n",
       "    <tr>\n",
       "      <th>1</th>\n",
       "      <td>700000</td>\n",
       "      <td>ACC</td>\n",
       "      <td>EX-50B</td>\n",
       "      <td>non-failed</td>\n",
       "      <td>38</td>\n",
       "      <td>2</td>\n",
       "      <td>34.423444</td>\n",
       "      <td>131.146137</td>\n",
       "      <td>709.525734761479</td>\n",
       "      <td>904.861162536342</td>\n",
       "      <td>83.995234</td>\n",
       "      <td>91.238090</td>\n",
       "      <td>0.11583599227328</td>\n",
       "      <td>0.260483903090653</td>\n",
       "      <td>110.245548851895</td>\n",
       "      <td>92.174964</td>\n",
       "      <td>48131.620917</td>\n",
       "    </tr>\n",
       "  </tbody>\n",
       "</table>\n",
       "</div>"
      ],
      "text/plain": [
       "   engine_id customer engine_type    category  damage  flight_id        t_1  \\\n",
       "0     700000      ACC      EX-50B  non-failed      38          1  27.169333   \n",
       "1     700000      ACC      EX-50B  non-failed      38          2  34.423444   \n",
       "\n",
       "          t_2               t_3               t_4      t_oil      p_oil  \\\n",
       "0   97.409398  568.554307180454  800.617771526119  73.664163  59.755336   \n",
       "1  131.146137  709.525734761479  904.861162536342  83.995234  91.238090   \n",
       "\n",
       "         vibrations_2       vibrations_4        core_speed  fan_speed  \\\n",
       "0  0.0844030348911414  0.288484308226124  103.988490040037  86.759646   \n",
       "1    0.11583599227328  0.260483903090653  110.245548851895  92.174964   \n",
       "\n",
       "         thrust  \n",
       "0  43824.077117  \n",
       "1  48131.620917  "
      ]
     },
     "execution_count": 5,
     "metadata": {},
     "output_type": "execute_result"
    }
   ],
   "source": [
    "gedata.head(n=2) "
   ]
  },
  {
   "cell_type": "code",
   "execution_count": 6,
   "metadata": {
    "collapsed": false
   },
   "outputs": [
    {
     "data": {
      "text/html": [
       "<div>\n",
       "<table border=\"1\" class=\"dataframe\">\n",
       "  <thead>\n",
       "    <tr style=\"text-align: right;\">\n",
       "      <th></th>\n",
       "      <th>engine_id</th>\n",
       "      <th>customer</th>\n",
       "      <th>engine_type</th>\n",
       "      <th>category</th>\n",
       "      <th>damage</th>\n",
       "      <th>flight_id</th>\n",
       "      <th>t_1</th>\n",
       "      <th>t_2</th>\n",
       "      <th>t_3</th>\n",
       "      <th>t_4</th>\n",
       "      <th>t_oil</th>\n",
       "      <th>p_oil</th>\n",
       "      <th>vibrations_2</th>\n",
       "      <th>vibrations_4</th>\n",
       "      <th>core_speed</th>\n",
       "      <th>fan_speed</th>\n",
       "      <th>thrust</th>\n",
       "    </tr>\n",
       "  </thead>\n",
       "  <tbody>\n",
       "    <tr>\n",
       "      <th>1961394</th>\n",
       "      <td>701996</td>\n",
       "      <td>ASI</td>\n",
       "      <td>EX-50B</td>\n",
       "      <td>non-failed</td>\n",
       "      <td>22</td>\n",
       "      <td>3606</td>\n",
       "      <td>34.518846</td>\n",
       "      <td>118.730542</td>\n",
       "      <td>657.278219025567</td>\n",
       "      <td>987.35059838155</td>\n",
       "      <td>77.225804</td>\n",
       "      <td>85.625504</td>\n",
       "      <td>0.0499146257522463</td>\n",
       "      <td>0.356357547811982</td>\n",
       "      <td>106.263538432885</td>\n",
       "      <td>88.607671</td>\n",
       "      <td>48747.376156</td>\n",
       "    </tr>\n",
       "    <tr>\n",
       "      <th>1961395</th>\n",
       "      <td>701996</td>\n",
       "      <td>ASI</td>\n",
       "      <td>EX-50B</td>\n",
       "      <td>non-failed</td>\n",
       "      <td>22</td>\n",
       "      <td>3607</td>\n",
       "      <td>22.662030</td>\n",
       "      <td>95.470234</td>\n",
       "      <td>638.901681990088</td>\n",
       "      <td>938.289772231049</td>\n",
       "      <td>76.074649</td>\n",
       "      <td>96.538556</td>\n",
       "      <td>0.642193101797019</td>\n",
       "      <td>0.537164142206192</td>\n",
       "      <td>105.454228819442</td>\n",
       "      <td>88.443708</td>\n",
       "      <td>48741.133212</td>\n",
       "    </tr>\n",
       "  </tbody>\n",
       "</table>\n",
       "</div>"
      ],
      "text/plain": [
       "         engine_id customer engine_type    category  damage  flight_id  \\\n",
       "1961394     701996      ASI      EX-50B  non-failed      22       3606   \n",
       "1961395     701996      ASI      EX-50B  non-failed      22       3607   \n",
       "\n",
       "               t_1         t_2               t_3               t_4      t_oil  \\\n",
       "1961394  34.518846  118.730542  657.278219025567   987.35059838155  77.225804   \n",
       "1961395  22.662030   95.470234  638.901681990088  938.289772231049  76.074649   \n",
       "\n",
       "             p_oil        vibrations_2       vibrations_4        core_speed  \\\n",
       "1961394  85.625504  0.0499146257522463  0.356357547811982  106.263538432885   \n",
       "1961395  96.538556   0.642193101797019  0.537164142206192  105.454228819442   \n",
       "\n",
       "         fan_speed        thrust  \n",
       "1961394  88.607671  48747.376156  \n",
       "1961395  88.443708  48741.133212  "
      ]
     },
     "execution_count": 6,
     "metadata": {},
     "output_type": "execute_result"
    }
   ],
   "source": [
    "gedata.tail(n=2)"
   ]
  },
  {
   "cell_type": "markdown",
   "metadata": {},
   "source": [
    "6) Carguemos una figura que nos muestra lo que significan los parámetros <img src=\"turbina_ge.jpg\">"
   ]
  },
  {
   "cell_type": "markdown",
   "metadata": {},
   "source": [
    "7) Si quisieramos cambiar algunos nombres esto es muy fácil:"
   ]
  },
  {
   "cell_type": "code",
   "execution_count": 7,
   "metadata": {
    "collapsed": false
   },
   "outputs": [],
   "source": [
    "data=gedata.rename(columns={'engine_id': 'id', 'customer': 'cliente','engine_type':'tipo',\n",
    "                           'category':'cat','flight_id':'vuelo','t_1':'t1','t_2':'t2',\n",
    "                         't_3':'t3',\n",
    "                           't_4':'t4','t_oil':'ta','p_oil':'pa','vibrations_2':'v2',\n",
    "                            'vibrations_4':'v4','core_speed':'velcore','fan_speed':'velfan',\n",
    "                            'thrust':'empuje'  })"
   ]
  },
  {
   "cell_type": "markdown",
   "metadata": {},
   "source": [
    "8) Podemos ver los cambios reflejados:"
   ]
  },
  {
   "cell_type": "code",
   "execution_count": 8,
   "metadata": {
    "collapsed": false
   },
   "outputs": [
    {
     "data": {
      "text/html": [
       "<div>\n",
       "<table border=\"1\" class=\"dataframe\">\n",
       "  <thead>\n",
       "    <tr style=\"text-align: right;\">\n",
       "      <th></th>\n",
       "      <th>id</th>\n",
       "      <th>cliente</th>\n",
       "      <th>tipo</th>\n",
       "      <th>cat</th>\n",
       "      <th>damage</th>\n",
       "      <th>vuelo</th>\n",
       "      <th>t1</th>\n",
       "      <th>t2</th>\n",
       "      <th>t3</th>\n",
       "      <th>t4</th>\n",
       "      <th>ta</th>\n",
       "      <th>pa</th>\n",
       "      <th>v2</th>\n",
       "      <th>v4</th>\n",
       "      <th>velcore</th>\n",
       "      <th>velfan</th>\n",
       "      <th>empuje</th>\n",
       "    </tr>\n",
       "  </thead>\n",
       "  <tbody>\n",
       "  </tbody>\n",
       "</table>\n",
       "</div>"
      ],
      "text/plain": [
       "Empty DataFrame\n",
       "Columns: [id, cliente, tipo, cat, damage, vuelo, t1, t2, t3, t4, ta, pa, v2, v4, velcore, velfan, empuje]\n",
       "Index: []"
      ]
     },
     "execution_count": 8,
     "metadata": {},
     "output_type": "execute_result"
    }
   ],
   "source": [
    "data.head(n=0)"
   ]
  },
  {
   "cell_type": "markdown",
   "metadata": {},
   "source": [
    "9) Vemos que hay variables categóricas, quisiera ver que valores toman:"
   ]
  },
  {
   "cell_type": "code",
   "execution_count": 15,
   "metadata": {
    "collapsed": false
   },
   "outputs": [
    {
     "data": {
      "text/plain": [
       "array([700000, 700002, 700008, 700010, 700011, 700028, 700029, 700034,\n",
       "       700042, 700049, 700059, 700065, 700080, 700085, 700086, 700087,\n",
       "       700091, 700107, 700108, 700119, 700133, 700135, 700141, 700143,\n",
       "       700146, 700150, 700162, 700170, 700172, 700176, 700185, 700187,\n",
       "       700190, 700191, 700192, 700199, 700201, 700205, 700207, 700230,\n",
       "       700234, 700236, 700243, 700249, 700251, 700268, 700272, 700274,\n",
       "       700286, 700289, 700291, 700292, 700306, 700311, 700318, 700321,\n",
       "       700325, 700330, 700332, 700335, 700337, 700338, 700348, 700349,\n",
       "       700375, 700377, 700381, 700384, 700386, 700389, 700393, 700397,\n",
       "       700400, 700411, 700415, 700416, 700417, 700424, 700428, 700430,\n",
       "       700431, 700434, 700435, 700439, 700440, 700449, 700454, 700470,\n",
       "       700475, 700477, 700482, 700483, 700488, 700498, 700500, 700503,\n",
       "       700504, 700507, 700508, 700516, 700519, 700520, 700522, 700533,\n",
       "       700536, 700537, 700538, 700539, 700540, 700544, 700546, 700556,\n",
       "       700557, 700560, 700563, 700568, 700573, 700576, 700583, 700585,\n",
       "       700586, 700596, 700603, 700604, 700611, 700612, 700615, 700618,\n",
       "       700624, 700629, 700636, 700640, 700641, 700642, 700650, 700651,\n",
       "       700656, 700664, 700669, 700674, 700675, 700678, 700685, 700688,\n",
       "       700689, 700697, 700700, 700706, 700710, 700725, 700727, 700731,\n",
       "       700735, 700737, 700742, 700747, 700751, 700754, 700763, 700770,\n",
       "       700776, 700784, 700790, 700796, 700798, 700801, 700802, 700831,\n",
       "       700834, 700850, 700853, 700867, 700869, 700873, 700875, 700878,\n",
       "       700882, 700883, 700888, 700893, 700895, 700896, 700898, 700901,\n",
       "       700907, 700909, 700917, 700920, 700921, 700936, 700940, 700943,\n",
       "       700945, 700952, 700955, 700959, 700966, 700968, 700972, 700973,\n",
       "       700977, 700984, 700986, 700990, 700992, 701002, 701005, 701010,\n",
       "       701011, 701017, 701018, 701022, 701031, 701035, 701036, 701043,\n",
       "       701050, 701059, 701060, 701061, 701065, 701072, 701087, 701091,\n",
       "       701092, 701095, 701098, 701103, 701104, 701112, 701118, 701130,\n",
       "       701137, 701140, 701142, 701147, 701148, 701156, 701165, 701174,\n",
       "       701176, 701183, 701184, 701185, 701190, 701201, 701202, 701203,\n",
       "       701206, 701219, 701227, 701229, 701236, 701240, 701242, 701252,\n",
       "       701255, 701265, 701269, 701279, 701285, 701288, 701290, 701295,\n",
       "       701300, 701322, 701323, 701325, 701331, 701335, 701337, 701340,\n",
       "       701341, 701343, 701358, 701359, 701360, 701365, 701367, 701373,\n",
       "       701378, 701383, 701389, 701390, 701392, 701395, 701407, 701413,\n",
       "       701414, 701416, 701420, 701422, 701428, 701431, 701432, 701434,\n",
       "       701438, 701442, 701447, 701452, 701458, 701473, 701477, 701486,\n",
       "       701501, 701512, 701515, 701518, 701520, 701522, 701537, 701552,\n",
       "       701555, 701561, 701564, 701568, 701570, 701575, 701588, 701589,\n",
       "       701596, 701598, 701607, 701612, 701613, 701620, 701625, 701636,\n",
       "       701652, 701657, 701660, 701663, 701668, 701677, 701686, 701698,\n",
       "       701704, 701708, 701709, 701714, 701722, 701731, 701736, 701738,\n",
       "       701742, 701754, 701761, 701766, 701773, 701780, 701791, 701793,\n",
       "       701794, 701797, 701800, 701804, 701809, 701810, 701812, 701815,\n",
       "       701817, 701821, 701822, 701830, 701836, 701841, 701843, 701849,\n",
       "       701852, 701856, 701859, 701862, 701863, 701868, 701871, 701873,\n",
       "       701874, 701879, 701884, 701887, 701900, 701903, 701904, 701913,\n",
       "       701924, 701925, 701926, 701928, 701932, 701939, 701943, 701955,\n",
       "       701959, 701961, 701970, 701976, 701978, 701986, 701992, 701996])"
      ]
     },
     "execution_count": 15,
     "metadata": {},
     "output_type": "execute_result"
    }
   ],
   "source": [
    "np.unique(data[['id']])"
   ]
  },
  {
   "cell_type": "code",
   "execution_count": 10,
   "metadata": {
    "collapsed": false
   },
   "outputs": [
    {
     "data": {
      "text/plain": [
       "array(['ACC', 'ASI', 'DME', 'FAR', 'SLA'], dtype=object)"
      ]
     },
     "execution_count": 10,
     "metadata": {},
     "output_type": "execute_result"
    }
   ],
   "source": [
    "np.unique(data[['cliente']])"
   ]
  },
  {
   "cell_type": "code",
   "execution_count": 11,
   "metadata": {
    "collapsed": false
   },
   "outputs": [
    {
     "data": {
      "text/plain": [
       "array(['EX-50A', 'EX-50B'], dtype=object)"
      ]
     },
     "execution_count": 11,
     "metadata": {},
     "output_type": "execute_result"
    }
   ],
   "source": [
    "np.unique(data[['tipo']])"
   ]
  },
  {
   "cell_type": "code",
   "execution_count": 12,
   "metadata": {
    "collapsed": false
   },
   "outputs": [
    {
     "data": {
      "text/plain": [
       "array(['failed', 'non-failed'], dtype=object)"
      ]
     },
     "execution_count": 12,
     "metadata": {},
     "output_type": "execute_result"
    }
   ],
   "source": [
    "np.unique(data[['cat']])"
   ]
  },
  {
   "cell_type": "code",
   "execution_count": 13,
   "metadata": {
    "collapsed": false
   },
   "outputs": [
    {
     "data": {
      "text/plain": [
       "array([ 4,  7,  8,  9, 10, 11, 12, 13, 14, 15, 16, 17, 18, 19, 20, 21, 22,\n",
       "       23, 24, 25, 26, 27, 28, 29, 30, 31, 32, 33, 34, 35, 36, 37, 38, 40,\n",
       "       41, 43, 44, 46, 50, 51, 53, 55, 57, 58, 59, 60, 61, 62, 63, 64, 65,\n",
       "       66, 67, 68, 69, 70, 71, 72, 73, 74, 75, 76, 77, 80, 82, 83])"
      ]
     },
     "execution_count": 13,
     "metadata": {},
     "output_type": "execute_result"
    }
   ],
   "source": [
    "np.unique(data[['damage']])"
   ]
  },
  {
   "cell_type": "code",
   "execution_count": 14,
   "metadata": {
    "collapsed": false
   },
   "outputs": [
    {
     "data": {
      "text/plain": [
       "array([   1,    2,    3, ..., 7783, 7784, 7785])"
      ]
     },
     "execution_count": 14,
     "metadata": {},
     "output_type": "execute_result"
    }
   ],
   "source": [
    "np.unique(data[['vuelo']])"
   ]
  },
  {
   "cell_type": "markdown",
   "metadata": {},
   "source": [
    "10) Ahora defino un nuevo data frame reducido para trabajar sin las variables categóricas de tipo de motor y cliente, y solo conservando el target del modelo en la variable 'cat'"
   ]
  },
  {
   "cell_type": "code",
   "execution_count": 16,
   "metadata": {
    "collapsed": false
   },
   "outputs": [],
   "source": [
    "data1= data[ ['damage', 't1', 't2','t3','t4','ta','pa','v2','v4','velcore','velfan','empuje','cat'] ]"
   ]
  },
  {
   "cell_type": "markdown",
   "metadata": {
    "collapsed": false
   },
   "source": [
    "11) Comienzo a explorar los valores de los datos, quisiera por ejemplo ver el promedio de la temperatura t2"
   ]
  },
  {
   "cell_type": "code",
   "execution_count": 17,
   "metadata": {
    "collapsed": false
   },
   "outputs": [
    {
     "data": {
      "text/plain": [
       "94.72916584923271"
      ]
     },
     "execution_count": 17,
     "metadata": {},
     "output_type": "execute_result"
    }
   ],
   "source": [
    "data1['t2'].mean()"
   ]
  },
  {
   "cell_type": "markdown",
   "metadata": {},
   "source": [
    "12) Puedo ver la cantidad de datos que tengo"
   ]
  },
  {
   "cell_type": "code",
   "execution_count": 18,
   "metadata": {
    "collapsed": false
   },
   "outputs": [
    {
     "data": {
      "text/plain": [
       "(1961396, 13)"
      ]
     },
     "execution_count": 18,
     "metadata": {},
     "output_type": "execute_result"
    }
   ],
   "source": [
    "data1.shape"
   ]
  },
  {
   "cell_type": "markdown",
   "metadata": {},
   "source": [
    "13) Tal vez solo quiero contar cuantas entradas hay en una columna:"
   ]
  },
  {
   "cell_type": "code",
   "execution_count": 19,
   "metadata": {
    "collapsed": false
   },
   "outputs": [
    {
     "data": {
      "text/plain": [
       "1961396"
      ]
     },
     "execution_count": 19,
     "metadata": {},
     "output_type": "execute_result"
    }
   ],
   "source": [
    "data['cat'].count()"
   ]
  },
  {
   "cell_type": "markdown",
   "metadata": {},
   "source": [
    "14) Puedo ver si hay datos nulos y en que columna:"
   ]
  },
  {
   "cell_type": "code",
   "execution_count": 23,
   "metadata": {
    "collapsed": false
   },
   "outputs": [
    {
     "data": {
      "text/plain": [
       "damage     False\n",
       "t1         False\n",
       "t2         False\n",
       "t3         False\n",
       "t4         False\n",
       "ta         False\n",
       "pa         False\n",
       "v2         False\n",
       "v4         False\n",
       "velcore    False\n",
       "velfan     False\n",
       "empuje     False\n",
       "cat        False\n",
       "dtype: bool"
      ]
     },
     "execution_count": 23,
     "metadata": {},
     "output_type": "execute_result"
    }
   ],
   "source": [
    "data1.isnull().any()"
   ]
  },
  {
   "cell_type": "code",
   "execution_count": 21,
   "metadata": {
    "collapsed": false
   },
   "outputs": [
    {
     "data": {
      "text/plain": [
       "0"
      ]
     },
     "execution_count": 21,
     "metadata": {},
     "output_type": "execute_result"
    }
   ],
   "source": [
    "data1.isnull().sum().sum()"
   ]
  },
  {
   "cell_type": "markdown",
   "metadata": {},
   "source": [
    "15) Ahora puedo agrupar en las categorías de 'failed' y  'non-failed' y ver los promedios de los valores en cada grupo:"
   ]
  },
  {
   "cell_type": "code",
   "execution_count": 24,
   "metadata": {
    "collapsed": false
   },
   "outputs": [
    {
     "data": {
      "text/html": [
       "<div>\n",
       "<table border=\"1\" class=\"dataframe\">\n",
       "  <thead>\n",
       "    <tr style=\"text-align: right;\">\n",
       "      <th></th>\n",
       "      <th>damage</th>\n",
       "      <th>t1</th>\n",
       "      <th>t2</th>\n",
       "      <th>ta</th>\n",
       "      <th>pa</th>\n",
       "      <th>velfan</th>\n",
       "      <th>empuje</th>\n",
       "    </tr>\n",
       "    <tr>\n",
       "      <th>cat</th>\n",
       "      <th></th>\n",
       "      <th></th>\n",
       "      <th></th>\n",
       "      <th></th>\n",
       "      <th></th>\n",
       "      <th></th>\n",
       "      <th></th>\n",
       "    </tr>\n",
       "  </thead>\n",
       "  <tbody>\n",
       "    <tr>\n",
       "      <th>failed</th>\n",
       "      <td>64.869973</td>\n",
       "      <td>26.557995</td>\n",
       "      <td>97.210312</td>\n",
       "      <td>69.991314</td>\n",
       "      <td>79.973346</td>\n",
       "      <td>90.294014</td>\n",
       "      <td>46980.378652</td>\n",
       "    </tr>\n",
       "    <tr>\n",
       "      <th>non-failed</th>\n",
       "      <td>25.049676</td>\n",
       "      <td>24.300486</td>\n",
       "      <td>94.056068</td>\n",
       "      <td>70.001452</td>\n",
       "      <td>80.002733</td>\n",
       "      <td>85.949997</td>\n",
       "      <td>43899.594358</td>\n",
       "    </tr>\n",
       "  </tbody>\n",
       "</table>\n",
       "</div>"
      ],
      "text/plain": [
       "               damage         t1         t2         ta         pa     velfan  \\\n",
       "cat                                                                            \n",
       "failed      64.869973  26.557995  97.210312  69.991314  79.973346  90.294014   \n",
       "non-failed  25.049676  24.300486  94.056068  70.001452  80.002733  85.949997   \n",
       "\n",
       "                  empuje  \n",
       "cat                       \n",
       "failed      46980.378652  \n",
       "non-failed  43899.594358  "
      ]
     },
     "execution_count": 24,
     "metadata": {},
     "output_type": "execute_result"
    }
   ],
   "source": [
    "data1.groupby('cat').mean()"
   ]
  },
  {
   "cell_type": "markdown",
   "metadata": {},
   "source": [
    "Salta a la vista que el 'damage' es mucho mayor para los que si fallaron, cómo era de esperarse."
   ]
  },
  {
   "cell_type": "markdown",
   "metadata": {},
   "source": [
    "16) En lo que sigue estaremos trabajando con una muestra aleatoria del data set para facilitar la visualización"
   ]
  },
  {
   "cell_type": "code",
   "execution_count": 26,
   "metadata": {
    "collapsed": false
   },
   "outputs": [],
   "source": [
    "muestra = data.sample(frac=0.001)"
   ]
  },
  {
   "cell_type": "code",
   "execution_count": 27,
   "metadata": {
    "collapsed": false
   },
   "outputs": [
    {
     "data": {
      "text/plain": [
       "1961"
      ]
     },
     "execution_count": 27,
     "metadata": {},
     "output_type": "execute_result"
    }
   ],
   "source": [
    "muestra['id'].count()"
   ]
  },
  {
   "cell_type": "markdown",
   "metadata": {},
   "source": [
    "17) Ahora queremos formar dos subconjuntos de la prueba: los \"buenos\" y los \"malos\"."
   ]
  },
  {
   "cell_type": "code",
   "execution_count": 28,
   "metadata": {
    "collapsed": false
   },
   "outputs": [],
   "source": [
    "malos = muestra[muestra['cat'].isin(['failed'])]\n",
    "\n",
    "buenos = muestra[muestra['cat'].isin(['non-failed'])]"
   ]
  },
  {
   "cell_type": "markdown",
   "metadata": {},
   "source": [
    "18) Veamos algunas gráficas. Comenzamos por explorar hasta que punto el damage divide los buenos de los malos:"
   ]
  },
  {
   "cell_type": "code",
   "execution_count": 29,
   "metadata": {
    "collapsed": false
   },
   "outputs": [
    {
     "data": {
      "text/plain": [
       "<matplotlib.text.Text at 0x10f8bfed0>"
      ]
     },
     "execution_count": 29,
     "metadata": {},
     "output_type": "execute_result"
    },
    {
     "data": {
      "image/png": "[encoded data removed]",
      "text/plain": [
       "<matplotlib.figure.Figure at 0x10f898150>"
      ]
     },
     "metadata": {},
     "output_type": "display_data"
    }
   ],
   "source": [
    "fig, ax = plt.subplots(figsize=(6,4))\n",
    "ax.scatter(buenos['damage'], buenos['t1'] ,c='yellowgreen', marker='2', label='Buenos')\n",
    "ax.scatter(malos['damage'] , malos['t1'] ,c='salmon', marker='+', label='Malos')\n",
    "ax.legend()\n",
    "ax.set_xlabel('damage')\n",
    "ax.set_ylabel('t1')"
   ]
  },
  {
   "cell_type": "markdown",
   "metadata": {},
   "source": [
    "Hemos establecido que el nivel de damage de 48 divide a casi todos los casos de buenos y malos excepto algunas anomalías. "
   ]
  },
  {
   "cell_type": "markdown",
   "metadata": {},
   "source": [
    "19) Ahora veamos como influye el tipo de motor, tenemos loas A y los B:"
   ]
  },
  {
   "cell_type": "code",
   "execution_count": 43,
   "metadata": {
    "collapsed": false
   },
   "outputs": [],
   "source": [
    "A = muestra[muestra['tipo'].isin(['EX-50A'])]\n",
    "B = muestra[muestra['tipo'].isin(['EX-50B'])]"
   ]
  },
  {
   "cell_type": "code",
   "execution_count": 44,
   "metadata": {
    "collapsed": false
   },
   "outputs": [
    {
     "data": {
      "text/plain": [
       "<matplotlib.text.Text at 0x110c17310>"
      ]
     },
     "execution_count": 44,
     "metadata": {},
     "output_type": "execute_result"
    },
    {
     "data": {
      "image/png": "[encoded data removed]",
      "text/plain": [
       "<matplotlib.figure.Figure at 0x110c96590>"
      ]
     },
     "metadata": {},
     "output_type": "display_data"
    }
   ],
   "source": [
    "fig, ax = plt.subplots(figsize=(12,8))\n",
    "ax.scatter(A['damage'], A['empuje'], c='sandybrown', marker='v', label='Tipo A')\n",
    "ax.scatter(B['damage'], B['empuje'], c='lightskyblue', marker='v', label='Tipo B')\n",
    "ax.legend()\n",
    "ax.set_xlabel('damage')\n",
    "ax.set_ylabel('empuje')"
   ]
  },
  {
   "cell_type": "markdown",
   "metadata": {},
   "source": [
    "Observamos que el tipo de motor influye en el empuje pero no en el damage y por lo tanto no en la posibilidad de falla"
   ]
  },
  {
   "cell_type": "code",
   "execution_count": 46,
   "metadata": {
    "collapsed": false
   },
   "outputs": [],
   "source": [
    "ACC = muestra[muestra['cliente'].isin(['ACC'])]\n",
    "ASI = muestra[muestra['cliente'].isin(['ASI'])]\n",
    "DME = muestra[muestra['cliente'].isin(['DME'])]\n",
    "FAR = muestra[muestra['cliente'].isin(['FAR'])]\n",
    "SLA = muestra[muestra['cliente'].isin(['SLA'])]\n",
    "\n"
   ]
  },
  {
   "cell_type": "code",
   "execution_count": 47,
   "metadata": {
    "collapsed": false
   },
   "outputs": [
    {
     "data": {
      "text/plain": [
       "<matplotlib.text.Text at 0x1110b2050>"
      ]
     },
     "execution_count": 47,
     "metadata": {},
     "output_type": "execute_result"
    },
    {
     "data": {
      "image/png": "[encoded data removed]",
      "text/plain": [
       "<matplotlib.figure.Figure at 0x1102b3250>"
      ]
     },
     "metadata": {},
     "output_type": "display_data"
    }
   ],
   "source": [
    "fig, ax = plt.subplots(figsize=(12,8))\n",
    "ax.scatter(ACC['damage'], ACC['empuje'], c='darkblue', marker='v', label='ACC')\n",
    "ax.scatter(ASI['damage'], ASI['empuje'], c='darkviolet', marker='v', label='ASI')\n",
    "ax.scatter(DME['damage'], DME['empuje'], c='darkred', marker='v', label='DME')\n",
    "ax.scatter(FAR['damage'], FAR['empuje'], c='magenta', marker='v', label='FAR')\n",
    "ax.scatter(SLA['damage'], SLA['empuje'], c='darkgreen', marker='v', label='SLA')\n",
    "ax.legend()\n",
    "ax.set_xlabel('damage')\n",
    "ax.set_ylabel('empuje')"
   ]
  },
  {
   "cell_type": "code",
   "execution_count": null,
   "metadata": {
    "collapsed": false
   },
   "outputs": [],
   "source": [
    "fig, ax = plt.subplots(figsize=(6,4))\n",
    "ax.scatter(buenos['damage'], buenos['vuelo'], c='yellowgreen', marker='2', label='Buenos')\n",
    "ax.scatter(malos['damage'], malos['vuelo'], c='salmon', marker='+', label='Malos')\n",
    "ax.legend()\n",
    "ax.set_xlabel('damage')\n",
    "ax.set_ylabel('No. vuelo')"
   ]
  },
  {
   "cell_type": "code",
   "execution_count": null,
   "metadata": {
    "collapsed": false
   },
   "outputs": [],
   "source": [
    "fig, ax = plt.subplots(figsize=(6,4))\n",
    "ax.scatter(buenos['damage'], buenos['id'], c='yellowgreen', marker='2', label='Buenos')\n",
    "ax.scatter(malos['damage'], malos['id'], c='salmon', marker='+', label='Malos')\n",
    "ax.legend()\n",
    "ax.set_xlabel('damage')\n",
    "ax.set_ylabel('i d')"
   ]
  },
  {
   "cell_type": "code",
   "execution_count": null,
   "metadata": {
    "collapsed": false
   },
   "outputs": [],
   "source": [
    "fig, ax = plt.subplots(figsize=(6,4))\n",
    "ax.scatter(buenos['t1'], buenos['t2'], c='yellowgreen', marker='2', label='Buenos')\n",
    "ax.scatter(malos['t1'], malos['t2'], c='salmon', marker='+', label='Malos')\n",
    "ax.legend()\n",
    "ax.set_xlabel('t1')\n",
    "ax.set_ylabel('t2')"
   ]
  },
  {
   "cell_type": "code",
   "execution_count": null,
   "metadata": {
    "collapsed": false
   },
   "outputs": [],
   "source": [
    "fig, ax = plt.subplots(figsize=(6,4))\n",
    "ax.scatter(buenos['velcore'], buenos['empuje'], c='yellowgreen', marker='2', label='Buenos')\n",
    "ax.scatter(malos['velcore'], malos['empuje'], c='salmon', marker='+', label='Malos')\n",
    "ax.legend()\n",
    "ax.set_xlabel('velcore')\n",
    "ax.set_ylabel('empuje')"
   ]
  },
  {
   "cell_type": "code",
   "execution_count": null,
   "metadata": {
    "collapsed": false
   },
   "outputs": [],
   "source": [
    "fig, ax = plt.subplots(figsize=(6,4))\n",
    "ax.scatter(buenos['velfan'], buenos['empuje'], c='yellowgreen', marker='2', label='Buenos')\n",
    "ax.scatter(malos['velfan'], malos['empuje'], c='salmon', marker='+', label='Malos')\n",
    "ax.legend()\n",
    "ax.set_xlabel('velfan')\n",
    "ax.set_ylabel('empuje')"
   ]
  },
  {
   "cell_type": "code",
   "execution_count": null,
   "metadata": {
    "collapsed": false
   },
   "outputs": [],
   "source": [
    "fig, ax = plt.subplots(figsize=(6,4))\n",
    "ax.scatter(buenos['velfan'], buenos['empuje'], c='yellowgreen', marker='2', label='Buenos')\n",
    "ax.scatter(malos['velfan'], malos['empuje'], c='salmon', marker='+', label='Malos')\n",
    "ax.legend()\n",
    "ax.set_xlabel('velfan')\n",
    "ax.set_ylabel('empuje')"
   ]
  },
  {
   "cell_type": "code",
   "execution_count": null,
   "metadata": {
    "collapsed": true
   },
   "outputs": [],
   "source": [
    "def plot_corr(df,size=10):\n",
    "    '''Function plots a graphical correlation matrix for each pair of columns in the dataframe.\n",
    "\n",
    "    Input:\n",
    "        df: pandas DataFrame\n",
    "        size: vertical and horizontal size of the plot'''\n",
    "\n",
    "    corr = df.corr()\n",
    "    fig, ax = plt.subplots(figsize=(size, size))\n",
    "    ax.matshow(corr)\n",
    "    plt.xticks(range(len(corr.columns)), corr.columns);\n",
    "    plt.yticks(range(len(corr.columns)), corr.columns);"
   ]
  },
  {
   "cell_type": "code",
   "execution_count": null,
   "metadata": {
    "collapsed": false
   },
   "outputs": [],
   "source": [
    "plot_corr(data1)"
   ]
  },
  {
   "cell_type": "code",
   "execution_count": null,
   "metadata": {
    "collapsed": false
   },
   "outputs": [],
   "source": [
    "data.head(n=3)"
   ]
  },
  {
   "cell_type": "code",
   "execution_count": null,
   "metadata": {
    "collapsed": true
   },
   "outputs": [],
   "source": [
    "arriba = prueba[prueba['tipo'].isin(['EX-50B'])]"
   ]
  },
  {
   "cell_type": "code",
   "execution_count": null,
   "metadata": {
    "collapsed": false
   },
   "outputs": [],
   "source": [
    "arriba.head(n=2)"
   ]
  },
  {
   "cell_type": "code",
   "execution_count": null,
   "metadata": {
    "collapsed": false
   },
   "outputs": [],
   "source": [
    "\n",
    "prueba2 = data.sample(frac=0.1)\n",
    "\n",
    "arriba = prueba[prueba['tipo'].isin(['EX-50B'])]\n",
    "\n",
    "abajo = prueba[~prueba['tipo'].isin(['EX-50B'])]\n",
    "\n",
    "fig, ax = plt.subplots(figsize=(6,4))\n",
    "ax.scatter(arriba['velcore'], arriba['empuje'], c='yellowgreen', marker='2', label='Arriba')\n",
    "ax.scatter(abajo['velcore'], abajo['empuje'], c='salmon', marker='+', label='Abajo')\n",
    "ax.legend()\n",
    "ax.set_xlabel('velcore')\n",
    "ax.set_ylabel('empuje')"
   ]
  },
  {
   "cell_type": "code",
   "execution_count": null,
   "metadata": {
    "collapsed": false
   },
   "outputs": [],
   "source": [
    "\n",
    "fig, ax = plt.subplots(figsize=(6,4))\n",
    "ax.scatter(arriba['velcore'], arriba['empuje'], c='yellowgreen', marker='v', label='Arriba')\n",
    "ax.legend()\n",
    "ax.set_xlabel('velcore')\n",
    "ax.set_ylabel('empuje')"
   ]
  },
  {
   "cell_type": "code",
   "execution_count": null,
   "metadata": {
    "collapsed": true
   },
   "outputs": [],
   "source": [
    "malos_arriba = arriba[arriba['cat'].isin(['failed'])]\n",
    "\n",
    "buenos_arriba = arriba[arriba['cat'].isin(['non-failed'])]"
   ]
  },
  {
   "cell_type": "code",
   "execution_count": null,
   "metadata": {
    "collapsed": false
   },
   "outputs": [],
   "source": [
    "fig, ax = plt.subplots(figsize=(6,4))\n",
    "ax.scatter(buenos_arriba['velcore'], buenos_arriba['empuje'], c='yellowgreen', marker='2', label='Buenos')\n",
    "ax.scatter(malos_arriba['velcore'], malos_arriba['empuje'], c='salmon', marker='+', label='Malos')\n",
    "ax.legend()\n",
    "ax.set_xlabel('velcore')\n",
    "ax.set_ylabel('empuje')"
   ]
  },
  {
   "cell_type": "code",
   "execution_count": null,
   "metadata": {
    "collapsed": true
   },
   "outputs": [],
   "source": [
    "malos_abajo = abajo[abajo['cat'].isin(['failed'])]\n",
    "\n",
    "buenos_abajo = abajo[abajo['cat'].isin(['non-failed'])]"
   ]
  },
  {
   "cell_type": "code",
   "execution_count": null,
   "metadata": {
    "collapsed": false
   },
   "outputs": [],
   "source": [
    "fig, ax = plt.subplots(figsize=(6,4))\n",
    "ax.scatter(buenos_abajo['velcore'], buenos_abajo['empuje'], c='yellowgreen', marker='2', label='Buenos')\n",
    "ax.scatter(malos_abajo['velcore'], malos_abajo['empuje'], c='salmon', marker='+', label='Malos')\n",
    "ax.legend()\n",
    "ax.set_xlabel('velcore')\n",
    "ax.set_ylabel('empuje')"
   ]
  },
  {
   "cell_type": "code",
   "execution_count": null,
   "metadata": {
    "collapsed": false
   },
   "outputs": [],
   "source": [
    "dataset_prep = abajo[['velcore', 'empuje','cat']]"
   ]
  },
  {
   "cell_type": "code",
   "execution_count": null,
   "metadata": {
    "collapsed": false
   },
   "outputs": [],
   "source": []
  },
  {
   "cell_type": "code",
   "execution_count": null,
   "metadata": {
    "collapsed": false
   },
   "outputs": [],
   "source": [
    "\n",
    "reg_log = LogisticRegression()\n",
    "features = dataset_prep[['velcore', 'empuje']]\n",
    "\n",
    "features_train, features_test, target_train, target_test = train_test_split(features, dataset_prep['cat'])\n",
    "reg_log.fit(features_train, target_train)\n",
    "predictions = reg_log.predict(features_test)"
   ]
  },
  {
   "cell_type": "code",
   "execution_count": null,
   "metadata": {
    "collapsed": false
   },
   "outputs": [],
   "source": [
    "reg_log.score(X = features_test ,\n",
    "                y = target_test)"
   ]
  },
  {
   "cell_type": "code",
   "execution_count": null,
   "metadata": {
    "collapsed": false
   },
   "outputs": [],
   "source": [
    "\n",
    "\n",
    "\n",
    "f, (ax1, ax2) = plt.subplots(2, 1, sharex='col', sharey='row',figsize=(6,8))\n",
    "ax1.scatter(arriba['velcore'], arriba['empuje'], c='yellowgreen', marker='2', label='Arriba')\n",
    "ax1.scatter(abajo['velcore'], abajo['empuje'], c='salmon', marker='+', label='Abajo')\n",
    "ax1.set_title('Sharing x per column, y per row')\n",
    "ax2.scatter(buenos_arriba['velcore'], buenos_arriba['empuje'], c='yellowgreen', marker='2', label='Buenos')\n",
    "ax2.scatter(malos_arriba['velcore'], malos_arriba['empuje'], c='salmon', marker='+', label='Malos')\n"
   ]
  },
  {
   "cell_type": "code",
   "execution_count": null,
   "metadata": {
    "collapsed": true
   },
   "outputs": [],
   "source": [
    "asdfsdf"
   ]
  },
  {
   "cell_type": "markdown",
   "metadata": {},
   "source": [
    "sdfsdaf"
   ]
  },
  {
   "cell_type": "markdown",
   "metadata": {},
   "source": [
    "\\h\n"
   ]
  },
  {
   "cell_type": "code",
   "execution_count": null,
   "metadata": {
    "collapsed": true
   },
   "outputs": [],
   "source": [
    "v"
   ]
  },
  {
   "cell_type": "markdown",
   "metadata": {},
   "source": [
    "dsfasdfsf\n",
    "\n"
   ]
  },
  {
   "cell_type": "code",
   "execution_count": null,
   "metadata": {
    "collapsed": true
   },
   "outputs": [],
   "source": [
    "safdfasdf"
   ]
  }
 ],
 "metadata": {
  "anaconda-cloud": {},
  "kernelspec": {
   "display_name": "Python 3",
   "language": "python",
   "name": "python3"
  },
  "language_info": {
   "codemirror_mode": {
    "name": "ipython",
    "version": 3
   },
   "file_extension": ".py",
   "mimetype": "text/x-python",
   "name": "python",
   "nbconvert_exporter": "python",
   "pygments_lexer": "ipython3",
   "version": "3.6.0"
  }
 },
 "nbformat": 4,
 "nbformat_minor": 1
}

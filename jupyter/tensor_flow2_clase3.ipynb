{
 "cells": [
  {
   "cell_type": "code",
   "execution_count": 2,
   "metadata": {
    "collapsed": false
   },
   "outputs": [],
   "source": [
    "import tensorflow as tf\n",
    "import matplotlib.pyplot as plt\n"
   ]
  },
  {
   "cell_type": "code",
   "execution_count": 3,
   "metadata": {
    "collapsed": true
   },
   "outputs": [],
   "source": [
    "uniforme=tf.random_uniform([100],minval=0,maxval=1,dtype=tf.float32)"
   ]
  },
  {
   "cell_type": "code",
   "execution_count": 5,
   "metadata": {
    "collapsed": false
   },
   "outputs": [
    {
     "name": "stdout",
     "output_type": "stream",
     "text": [
      "Tensor(\"random_uniform:0\", shape=(100,), dtype=float32)\n"
     ]
    }
   ],
   "source": [
    "print uniforme"
   ]
  },
  {
   "cell_type": "code",
   "execution_count": null,
   "metadata": {
    "collapsed": true
   },
   "outputs": [],
   "source": [
    "sesion = tf.Session()\n"
   ]
  },
  {
   "cell_type": "code",
   "execution_count": 9,
   "metadata": {
    "collapsed": false
   },
   "outputs": [
    {
     "name": "stdout",
     "output_type": "stream",
     "text": [
      "[  4.62291241e-02   1.71132803e-01   7.83876300e-01   8.88424516e-01\n",
      "   1.42442584e-01   4.90788937e-01   2.37807631e-01   8.23543429e-01\n",
      "   2.77054191e-01   4.45618629e-01   3.54667544e-01   3.88537645e-02\n",
      "   5.39519906e-01   3.20814967e-01   9.50438261e-01   4.39576983e-01\n",
      "   8.99260879e-01   4.39524651e-04   5.38432598e-01   3.69610190e-01\n",
      "   4.19750810e-01   7.85114884e-01   6.74666762e-01   7.58602619e-02\n",
      "   1.33918524e-02   1.63645744e-01   1.56931281e-01   8.47579956e-01\n",
      "   8.14163327e-01   1.40512347e-01   2.51937628e-01   6.14079475e-01\n",
      "   1.12953663e-01   4.79356050e-01   2.21714497e-01   2.89400697e-01\n",
      "   2.78362632e-01   6.84168458e-01   6.53639674e-01   6.86000466e-01\n",
      "   7.16736078e-01   3.31981182e-02   3.75148296e-01   6.06850028e-01\n",
      "   8.38991523e-01   1.21185184e-01   9.99369144e-01   8.25568318e-01\n",
      "   8.35101128e-01   7.63560295e-01   4.40862179e-02   9.34977174e-01\n",
      "   2.78263092e-02   2.80248284e-01   4.84882712e-01   2.80983448e-02\n",
      "   4.40743446e-01   4.17733908e-01   5.20272136e-01   6.58977032e-03\n",
      "   9.57923651e-01   8.67739081e-01   9.34153438e-01   1.51790619e-01\n",
      "   3.22208166e-01   3.87837410e-01   9.39693928e-01   4.05935764e-01\n",
      "   4.21129942e-01   1.39548421e-01   3.67061377e-01   5.01154780e-01\n",
      "   9.79365706e-01   2.23691940e-01   8.59293580e-01   6.68277383e-01\n",
      "   9.71420884e-01   6.14652634e-01   6.39727116e-01   9.54429150e-01\n",
      "   1.66944623e-01   3.64298940e-01   6.01602435e-01   7.25444078e-01\n",
      "   8.16313267e-01   8.11693549e-01   3.90220881e-02   9.12056804e-01\n",
      "   3.49308968e-01   3.87730598e-01   9.33002710e-01   5.91411591e-01\n",
      "   5.66924095e-01   3.52905512e-01   1.38636112e-01   1.39047861e-01\n",
      "   9.68929052e-01   6.99363112e-01   3.69294286e-01   3.60157609e-01]\n"
     ]
    },
    {
     "data": {
      "image/png": "[encoded data removed]",
      "text/plain": [
       "<matplotlib.figure.Figure at 0x112674690>"
      ]
     },
     "metadata": {},
     "output_type": "display_data"
    }
   ],
   "source": [
    "with tf.Session() as sesion1:\n",
    "    print uniforme.eval()\n",
    "    plt.hist(uniforme.eval(),normed=True)\n",
    "    plt.show()"
   ]
  },
  {
   "cell_type": "code",
   "execution_count": 13,
   "metadata": {
    "collapsed": false
   },
   "outputs": [
    {
     "data": {
      "image/png": "[encoded data removed]",
      "text/plain": [
       "<matplotlib.figure.Figure at 0x1043bfe50>"
      ]
     },
     "metadata": {},
     "output_type": "display_data"
    }
   ],
   "source": [
    "normal = tf.random_normal([1000],mean=0,stddev=2)\n",
    "with tf.Session() as sesion:\n",
    "    plt.hist(normal.eval(),normed=True)\n",
    "    plt.show()"
   ]
  },
  {
   "cell_type": "code",
   "execution_count": null,
   "metadata": {
    "collapsed": true
   },
   "outputs": [],
   "source": []
  },
  {
   "cell_type": "code",
   "execution_count": 14,
   "metadata": {
    "collapsed": true
   },
   "outputs": [],
   "source": [
    "dardos = 100\n",
    "aciertos = 0"
   ]
  },
  {
   "cell_type": "code",
   "execution_count": 15,
   "metadata": {
    "collapsed": true
   },
   "outputs": [],
   "source": [
    "x = tf.random_uniform([1],minval=-1,maxval=1,dtype=tf.float32)\n",
    "y = tf.random_uniform([1],minval=-1,maxval=1,dtype=tf.float32)\n",
    "pi=[]"
   ]
  },
  {
   "cell_type": "code",
   "execution_count": 16,
   "metadata": {
    "collapsed": true
   },
   "outputs": [],
   "source": [
    "sesion= tf.Session()"
   ]
  },
  {
   "cell_type": "code",
   "execution_count": 19,
   "metadata": {
    "collapsed": false
   },
   "outputs": [],
   "source": [
    "with sesion.as_default():\n",
    "    for i in range(1,dardos):\n",
    "        for j in range(1,dardos):\n",
    "            if x.eval()**2+y.eval()**2<1:\n",
    "                aciertos = aciertos+1\n",
    "                pi.append((4*float(aciertos)/i)/dardos)"
   ]
  },
  {
   "cell_type": "code",
   "execution_count": 22,
   "metadata": {
    "collapsed": false
   },
   "outputs": [
    {
     "data": {
      "image/png": "[encoded data removed]",
      "text/plain": [
       "<matplotlib.figure.Figure at 0x116202790>"
      ]
     },
     "metadata": {},
     "output_type": "display_data"
    }
   ],
   "source": [
    "plt.plot(pi)\n",
    "plt.show()"
   ]
  },
  {
   "cell_type": "code",
   "execution_count": 26,
   "metadata": {
    "collapsed": false
   },
   "outputs": [
    {
     "name": "stdout",
     "output_type": "stream",
     "text": [
      "3.09898989899\n"
     ]
    }
   ],
   "source": [
    "print pi[-1]"
   ]
  },
  {
   "cell_type": "code",
   "execution_count": null,
   "metadata": {
    "collapsed": true
   },
   "outputs": [],
   "source": []
  }
 ],
 "metadata": {
  "kernelspec": {
   "display_name": "Python 2",
   "language": "python",
   "name": "python2"
  },
  "language_info": {
   "codemirror_mode": {
    "name": "ipython",
    "version": 2
   },
   "file_extension": ".py",
   "mimetype": "text/x-python",
   "name": "python",
   "nbconvert_exporter": "python",
   "pygments_lexer": "ipython2",
   "version": "2.7.13"
  }
 },
 "nbformat": 4,
 "nbformat_minor": 1
}
